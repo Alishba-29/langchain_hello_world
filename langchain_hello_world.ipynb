{
  "nbformat": 4,
  "nbformat_minor": 0,
  "metadata": {
    "colab": {
      "provenance": [],
      "authorship_tag": "ABX9TyPUCZHfKxqZPgGInKz+Ad5K",
      "include_colab_link": true
    },
    "kernelspec": {
      "name": "python3",
      "display_name": "Python 3"
    },
    "language_info": {
      "name": "python"
    }
  },
  "cells": [
    {
      "cell_type": "markdown",
      "metadata": {
        "id": "view-in-github",
        "colab_type": "text"
      },
      "source": [
        "<a href=\"https://colab.research.google.com/github/Alishba-29/langchain_hello_world/blob/main/langchain_hello_world.ipynb\" target=\"_parent\"><img src=\"https://colab.research.google.com/assets/colab-badge.svg\" alt=\"Open In Colab\"/></a>"
      ]
    },
    {
      "cell_type": "code",
      "execution_count": 2,
      "metadata": {
        "colab": {
          "base_uri": "https://localhost:8080/"
        },
        "id": "3MHmjo-fZRy6",
        "outputId": "f9b41fb8-39d1-467e-f19b-e9e9fb307105"
      },
      "outputs": [
        {
          "output_type": "stream",
          "name": "stdout",
          "text": [
            "\u001b[?25l   \u001b[90m━━━━━━━━━━━━━━━━━━━━━━━━━━━━━━━━━━━━━━━━\u001b[0m \u001b[32m0.0/1.0 MB\u001b[0m \u001b[31m?\u001b[0m eta \u001b[36m-:--:--\u001b[0m\r\u001b[2K   \u001b[91m━━━━━━━━━━\u001b[0m\u001b[91m╸\u001b[0m\u001b[90m━━━━━━━━━━━━━━━━━━━━━━━━━━━━━\u001b[0m \u001b[32m0.3/1.0 MB\u001b[0m \u001b[31m7.8 MB/s\u001b[0m eta \u001b[36m0:00:01\u001b[0m\r\u001b[2K   \u001b[91m━━━━━━━━━━━━━━━━━━━━━━━━━━━━━━━━━━━━━━━\u001b[0m\u001b[91m╸\u001b[0m \u001b[32m1.0/1.0 MB\u001b[0m \u001b[31m18.0 MB/s\u001b[0m eta \u001b[36m0:00:01\u001b[0m\r\u001b[2K   \u001b[90m━━━━━━━━━━━━━━━━━━━━━━━━━━━━━━━━━━━━━━━━\u001b[0m \u001b[32m1.0/1.0 MB\u001b[0m \u001b[31m13.3 MB/s\u001b[0m eta \u001b[36m0:00:00\u001b[0m\n",
            "\u001b[?25h\u001b[?25l   \u001b[90m━━━━━━━━━━━━━━━━━━━━━━━━━━━━━━━━━━━━━━━━\u001b[0m \u001b[32m0.0/411.6 kB\u001b[0m \u001b[31m?\u001b[0m eta \u001b[36m-:--:--\u001b[0m\r\u001b[2K   \u001b[90m━━━━━━━━━━━━━━━━━━━━━━━━━━━━━━━━━━━━━━━━\u001b[0m \u001b[32m411.6/411.6 kB\u001b[0m \u001b[31m22.0 MB/s\u001b[0m eta \u001b[36m0:00:00\u001b[0m\n",
            "\u001b[?25h"
          ]
        }
      ],
      "source": [
        "!pip install -Uq langchain langchain-google-genai"
      ]
    },
    {
      "cell_type": "code",
      "source": [
        "import langchain_google_genai as genai"
      ],
      "metadata": {
        "id": "8GEBGwQLdOR_"
      },
      "execution_count": 3,
      "outputs": []
    },
    {
      "cell_type": "code",
      "source": [
        "from langchain_google_genai import ChatGoogleGenerativeAI\n",
        "from google.colab import userdata\n",
        "\n",
        "model : ChatGoogleGenerativeAI = ChatGoogleGenerativeAI(\n",
        "    model=\"gemini-1.5-flash\",\n",
        "    api_key=userdata.get(\"GOOGLE_API_KEY\")\n",
        ")\n",
        "\n",
        "response1 = model.invoke(\"Tell me about the special places in pakistan?\")\n",
        "print(response1.content)\n"
      ],
      "metadata": {
        "id": "49gdRBFFdlLV",
        "colab": {
          "base_uri": "https://localhost:8080/"
        },
        "outputId": "4eeab586-5b7c-44fb-bb59-1b30de87feac"
      },
      "execution_count": 4,
      "outputs": [
        {
          "output_type": "stream",
          "name": "stdout",
          "text": [
            "Pakistan boasts a stunning array of special places, diverse in geography and culture.  Here are some highlights, categorized for clarity:\n",
            "\n",
            "**Mountains & Nature:**\n",
            "\n",
            "* **Northern Areas (Gilgit-Baltistan & Khyber Pakhtunkhwa):** This region is a hiker's and mountaineer's paradise.  The Karakoram Range, home to K2 (the second-highest mountain in the world), offers breathtaking landscapes.  Other notable areas include Hunza Valley (famous for its stunning scenery and unique culture), Naltar Valley, Naran Kaghan (lush green valleys), and Swat Valley (known for its natural beauty and historical significance).  Trekking opportunities abound, from easy day hikes to challenging multi-day expeditions.\n",
            "\n",
            "* **Himalayas:**  Pakistan's portion of the Himalayas offers incredible views, glaciers, and trekking routes.\n",
            "\n",
            "* **Deosai Plains:**  Often called the \"roof of the world,\" this high-altitude plateau offers stunning wildflowers in summer and a stark, beautiful landscape in winter.\n",
            "\n",
            "* **Lake Saiful Muluk:**  A picturesque alpine lake nestled in the Kaghan Valley, it's a popular destination for its serene beauty.\n",
            "\n",
            "**Historical & Cultural Sites:**\n",
            "\n",
            "* **Mohenjo-daro & Harappa:**  These ancient Indus Valley Civilization sites are UNESCO World Heritage sites, offering a glimpse into one of the world's oldest urban civilizations.\n",
            "\n",
            "* **Taxila:**  Another UNESCO World Heritage site, Taxila is an ancient city with ruins from various empires, showcasing the rich history of the region.\n",
            "\n",
            "* **Lahore Fort & Badshahi Mosque:**  These iconic Mughal-era structures in Lahore are architectural marvels and testaments to the city's rich history.  The Walled City of Lahore itself is a fascinating place to explore.\n",
            "\n",
            "* **Thatta:**  Famous for its stunning Mughal-era architecture, including the Makli Necropolis, a vast cemetery with thousands of tombs.\n",
            "\n",
            "* **Rohtas Fort:**  A majestic fort in Punjab, showcasing impressive architecture and strategic importance.\n",
            "\n",
            "* **Ancient Buddhist Sites:**  Pakistan has numerous ancient Buddhist sites, remnants of the Silk Road, offering insights into the region's religious past.\n",
            "\n",
            "**Beaches & Deserts:**\n",
            "\n",
            "* **Gwadar:**  A rapidly developing port city on the Arabian Sea, offering beautiful beaches and potential for water sports.\n",
            "\n",
            "* **Sand dunes of Thar Desert:**  Experience the vastness and beauty of the Thar Desert, with opportunities for camel rides and exploring the unique desert culture.\n",
            "\n",
            "* **Cliffs of Hingol National Park:**  A rugged and dramatic landscape along the coast of Balochistan.\n",
            "\n",
            "\n",
            "**Important Considerations:**\n",
            "\n",
            "* **Safety and Security:**  Always check current travel advisories and exercise caution, especially in remote areas.  Local guidance is essential.\n",
            "* **Infrastructure:**  Infrastructure varies across the country.  Some areas are well-developed, while others have limited facilities.  Plan accordingly.\n",
            "* **Permits and Visas:**  Ensure you have the necessary permits and visas for travel to specific areas, especially in the Northern Areas.\n",
            "\n",
            "\n",
            "This list is not exhaustive, but it provides a good overview of the diverse and fascinating special places to visit in Pakistan.  Each location offers unique experiences and attractions, making it a country with immense potential for exploration. Remember to research thoroughly before your trip and plan according to your interests and preferences.\n",
            "\n"
          ]
        }
      ]
    }
  ]
}